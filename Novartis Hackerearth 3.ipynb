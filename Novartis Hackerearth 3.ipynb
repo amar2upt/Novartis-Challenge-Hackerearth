{
 "cells": [
  {
   "cell_type": "code",
   "execution_count": 1,
   "metadata": {},
   "outputs": [],
   "source": [
    "import pandas as pd\n",
    "import numpy as np\n",
    "import matplotlib.pyplot as plt\n",
    "%matplotlib inline\n",
    "import warnings\n",
    "warnings.filterwarnings('ignore')"
   ]
  },
  {
   "cell_type": "code",
   "execution_count": 2,
   "metadata": {},
   "outputs": [],
   "source": [
    "path = 'C:\\\\Users\\\\KBINM16696\\\\Desktop\\\\Data Science & Python\\\\Analytics Vidhya Hackathon Practice\\\\Novartis Hackerearth\\\\Dataset\\\\'"
   ]
  },
  {
   "cell_type": "code",
   "execution_count": 3,
   "metadata": {},
   "outputs": [],
   "source": [
    "train = pd.read_csv(path + 'Train.csv')\n",
    "test = pd.read_csv(path + 'Test.csv')\n",
    "#samp = pd.read_csv(path + 'sample_submission.csv')"
   ]
  },
  {
   "cell_type": "code",
   "execution_count": 4,
   "metadata": {},
   "outputs": [
    {
     "name": "stdout",
     "output_type": "stream",
     "text": [
      "(23856, 18)\n",
      "(15903, 17)\n"
     ]
    }
   ],
   "source": [
    "print(train.shape)\n",
    "print(test.shape)"
   ]
  },
  {
   "cell_type": "code",
   "execution_count": 5,
   "metadata": {},
   "outputs": [
    {
     "data": {
      "text/plain": [
       "1    22788\n",
       "0     1068\n",
       "Name: MULTIPLE_OFFENSE, dtype: int64"
      ]
     },
     "execution_count": 5,
     "metadata": {},
     "output_type": "execute_result"
    }
   ],
   "source": [
    "train.MULTIPLE_OFFENSE.value_counts()"
   ]
  },
  {
   "cell_type": "code",
   "execution_count": 6,
   "metadata": {},
   "outputs": [
    {
     "data": {
      "text/plain": [
       "1    0.955231\n",
       "0    0.044769\n",
       "Name: MULTIPLE_OFFENSE, dtype: float64"
      ]
     },
     "execution_count": 6,
     "metadata": {},
     "output_type": "execute_result"
    }
   ],
   "source": [
    "train.MULTIPLE_OFFENSE.value_counts(normalize=True)"
   ]
  },
  {
   "cell_type": "code",
   "execution_count": 7,
   "metadata": {},
   "outputs": [],
   "source": [
    "train['DATE'] = pd.to_datetime(train['DATE'])\n",
    "test['DATE'] = pd.to_datetime(test['DATE'])"
   ]
  },
  {
   "cell_type": "code",
   "execution_count": 8,
   "metadata": {},
   "outputs": [
    {
     "name": "stdout",
     "output_type": "stream",
     "text": [
      "training data is present from 1991-01-01 to 2018-12-31\n",
      "test data is present from 1991-01-02 to 2018-12-28\n"
     ]
    }
   ],
   "source": [
    "print('training data is present from {} to {}'.format(train.DATE.dt.date.min(),train.DATE.dt.date.max()))\n",
    "print('test data is present from {} to {}'.format(test.DATE.dt.date.min(),test.DATE.dt.date.max()))"
   ]
  },
  {
   "cell_type": "code",
   "execution_count": 9,
   "metadata": {},
   "outputs": [],
   "source": [
    "from sklearn.preprocessing import LabelEncoder\n",
    "from sklearn.preprocessing import StandardScaler\n",
    "from sklearn.ensemble import RandomForestClassifier\n",
    "from sklearn.metrics import accuracy_score, roc_auc_score, recall_score\n",
    "from sklearn.metrics import confusion_matrix"
   ]
  },
  {
   "cell_type": "markdown",
   "metadata": {},
   "source": [
    "### creating time based features"
   ]
  },
  {
   "cell_type": "code",
   "execution_count": 10,
   "metadata": {},
   "outputs": [
    {
     "data": {
      "text/plain": [
       "(39759, 18)"
      ]
     },
     "execution_count": 10,
     "metadata": {},
     "output_type": "execute_result"
    }
   ],
   "source": [
    "data_all = pd.concat([train, test])\n",
    "data_all.shape"
   ]
  },
  {
   "cell_type": "code",
   "execution_count": 11,
   "metadata": {},
   "outputs": [],
   "source": [
    "data_all.reset_index(inplace=True, drop=True)"
   ]
  },
  {
   "cell_type": "code",
   "execution_count": 12,
   "metadata": {},
   "outputs": [],
   "source": [
    "def create_date_features(df):\n",
    "    df['year'] = df['DATE'].dt.year\n",
    "    df['month'] = df['DATE'].dt.month\n",
    "    df['day'] = df['DATE'].dt.day\n",
    "    df['DayOfWeek'] = df['DATE'].dt.dayofweek\n",
    "    df['DayOfYear'] = df['DATE'].dt.dayofyear\n",
    "    df['week'] = df['DATE'].dt.week\n",
    "    df['Quarter'] = df['DATE'].dt.quarter\n",
    "    df['is_month_start'] = df['DATE'].dt.is_month_start\n",
    "    df['is_month_end'] = df['DATE'].dt.is_month_end\n",
    "    df['is_quarter_start'] = df['DATE'].dt.is_quarter_start\n",
    "    df['is_quarter_end'] = df['DATE'].dt.is_quarter_end\n",
    "    df['is_year_start'] = df['DATE'].dt.is_year_start\n",
    "    df['is_year_end'] = df['DATE'].dt.is_year_end\n",
    "    df['Semester'] = np.where(df['Quarter'].isin([1,2]),1,2)\n",
    "    df['is_weekend'] = np.where(df['DayOfWeek'].isin([5,6]), 1,0)\n",
    "    df['is_weekday'] = np.where(df['DayOfWeek'].isin([0,1,2,3,4]), 1,0)\n",
    "    return df"
   ]
  },
  {
   "cell_type": "code",
   "execution_count": 13,
   "metadata": {},
   "outputs": [],
   "source": [
    "data_all = create_date_features(data_all)"
   ]
  },
  {
   "cell_type": "markdown",
   "metadata": {},
   "source": [
    "#### create variables around missing value of X_12"
   ]
  },
  {
   "cell_type": "code",
   "execution_count": 16,
   "metadata": {},
   "outputs": [],
   "source": [
    "data_all['is_X_12_missing'] = np.where(data_all.X_12.isnull(),1,0)"
   ]
  },
  {
   "cell_type": "code",
   "execution_count": 17,
   "metadata": {},
   "outputs": [
    {
     "name": "stdout",
     "output_type": "stream",
     "text": [
      "(39759, 35)\n"
     ]
    }
   ],
   "source": [
    "print(data_all.shape)"
   ]
  },
  {
   "cell_type": "code",
   "execution_count": 18,
   "metadata": {},
   "outputs": [],
   "source": [
    "### datewise count of multiple offence\n",
    "dft = data_all.groupby('DATE')['MULTIPLE_OFFENSE'].sum().reset_index(drop=False)\n",
    "data_all = pd.merge(data_all, dft, how='left', on='DATE')"
   ]
  },
  {
   "cell_type": "code",
   "execution_count": 21,
   "metadata": {},
   "outputs": [],
   "source": [
    "data_all.rename(columns={'MULTIPLE_OFFENSE_y':'cnt_total_offence'}, inplace=True)"
   ]
  },
  {
   "cell_type": "code",
   "execution_count": 22,
   "metadata": {},
   "outputs": [],
   "source": [
    "data_all.rename(columns={'MULTIPLE_OFFENSE_x':'MULTIPLE_OFFENSE'}, inplace=True)"
   ]
  },
  {
   "cell_type": "code",
   "execution_count": 23,
   "metadata": {},
   "outputs": [],
   "source": [
    "# data_all.groupby('DATE')['MULTIPLE_OFFENSE'].agg(['mean', 'std']).reset_index().sort_values('mean').isnull().sum()"
   ]
  },
  {
   "cell_type": "markdown",
   "metadata": {},
   "source": [
    "### missing value treatment"
   ]
  },
  {
   "cell_type": "code",
   "execution_count": 24,
   "metadata": {},
   "outputs": [],
   "source": [
    "data_all['X_12'].fillna(data_all.X_12.value_counts().idxmax(), inplace=True)"
   ]
  },
  {
   "cell_type": "code",
   "execution_count": 25,
   "metadata": {},
   "outputs": [],
   "source": [
    "## missing value filled with mode value"
   ]
  },
  {
   "cell_type": "code",
   "execution_count": 26,
   "metadata": {},
   "outputs": [],
   "source": [
    "# ### transform X_12 columns and group the 4+ values in the same category\n",
    "# ### transform X_10 columns and group the 4+ values in the same category\n",
    "# data_all['X_12'] = np.where(data_all['X_12']>4, '4+', data_all['X_12'])\n",
    "# data_all['X_10'] = np.where(data_all['X_10']>4, '4+', data_all['X_10'])"
   ]
  },
  {
   "cell_type": "code",
   "execution_count": 27,
   "metadata": {},
   "outputs": [
    {
     "data": {
      "text/plain": [
       "Index(['INCIDENT_ID', 'DATE', 'X_1', 'X_2', 'X_3', 'X_4', 'X_5', 'X_6', 'X_7',\n",
       "       'X_8', 'X_9', 'X_10', 'X_11', 'X_12', 'X_13', 'X_14', 'X_15',\n",
       "       'MULTIPLE_OFFENSE', 'year', 'month', 'day', 'DayOfWeek', 'DayOfYear',\n",
       "       'week', 'Quarter', 'is_month_start', 'is_month_end', 'is_quarter_start',\n",
       "       'is_quarter_end', 'is_year_start', 'is_year_end', 'Semester',\n",
       "       'is_weekend', 'is_weekday', 'is_X_12_missing', 'cnt_total_offence'],\n",
       "      dtype='object')"
      ]
     },
     "execution_count": 27,
     "metadata": {},
     "output_type": "execute_result"
    }
   ],
   "source": [
    "data_all.columns"
   ]
  },
  {
   "cell_type": "code",
   "execution_count": 30,
   "metadata": {},
   "outputs": [
    {
     "name": "stdout",
     "output_type": "stream",
     "text": [
      "(23856, 36)\n",
      "(15903, 35)\n"
     ]
    }
   ],
   "source": [
    "train1 = data_all.loc[~(data_all.MULTIPLE_OFFENSE.isnull())].reset_index(drop=True)\n",
    "test1 = data_all.loc[(data_all.MULTIPLE_OFFENSE.isnull())].reset_index(drop=True).drop('MULTIPLE_OFFENSE', axis=1)\n",
    "print(train1.shape)\n",
    "print(test1.shape)"
   ]
  },
  {
   "cell_type": "code",
   "execution_count": 32,
   "metadata": {},
   "outputs": [],
   "source": [
    "train1.drop(['INCIDENT_ID','DATE'], axis=1, inplace=True)\n",
    "test1.drop(['INCIDENT_ID','DATE'], axis=1, inplace=True)"
   ]
  },
  {
   "cell_type": "code",
   "execution_count": 33,
   "metadata": {},
   "outputs": [
    {
     "data": {
      "text/html": [
       "<div>\n",
       "<style scoped>\n",
       "    .dataframe tbody tr th:only-of-type {\n",
       "        vertical-align: middle;\n",
       "    }\n",
       "\n",
       "    .dataframe tbody tr th {\n",
       "        vertical-align: top;\n",
       "    }\n",
       "\n",
       "    .dataframe thead th {\n",
       "        text-align: right;\n",
       "    }\n",
       "</style>\n",
       "<table border=\"1\" class=\"dataframe\">\n",
       "  <thead>\n",
       "    <tr style=\"text-align: right;\">\n",
       "      <th></th>\n",
       "      <th>X_1</th>\n",
       "      <th>X_2</th>\n",
       "      <th>X_3</th>\n",
       "      <th>X_4</th>\n",
       "      <th>X_5</th>\n",
       "      <th>X_6</th>\n",
       "      <th>X_7</th>\n",
       "      <th>X_8</th>\n",
       "      <th>X_9</th>\n",
       "      <th>X_10</th>\n",
       "      <th>...</th>\n",
       "      <th>is_month_end</th>\n",
       "      <th>is_quarter_start</th>\n",
       "      <th>is_quarter_end</th>\n",
       "      <th>is_year_start</th>\n",
       "      <th>is_year_end</th>\n",
       "      <th>Semester</th>\n",
       "      <th>is_weekend</th>\n",
       "      <th>is_weekday</th>\n",
       "      <th>is_X_12_missing</th>\n",
       "      <th>cnt_total_offence</th>\n",
       "    </tr>\n",
       "  </thead>\n",
       "  <tbody>\n",
       "    <tr>\n",
       "      <th>0</th>\n",
       "      <td>0</td>\n",
       "      <td>36</td>\n",
       "      <td>34</td>\n",
       "      <td>2</td>\n",
       "      <td>1</td>\n",
       "      <td>5</td>\n",
       "      <td>6</td>\n",
       "      <td>1</td>\n",
       "      <td>6</td>\n",
       "      <td>1</td>\n",
       "      <td>...</td>\n",
       "      <td>False</td>\n",
       "      <td>False</td>\n",
       "      <td>False</td>\n",
       "      <td>False</td>\n",
       "      <td>False</td>\n",
       "      <td>2</td>\n",
       "      <td>1</td>\n",
       "      <td>0</td>\n",
       "      <td>0</td>\n",
       "      <td>1.0</td>\n",
       "    </tr>\n",
       "    <tr>\n",
       "      <th>1</th>\n",
       "      <td>1</td>\n",
       "      <td>37</td>\n",
       "      <td>37</td>\n",
       "      <td>0</td>\n",
       "      <td>0</td>\n",
       "      <td>11</td>\n",
       "      <td>17</td>\n",
       "      <td>1</td>\n",
       "      <td>6</td>\n",
       "      <td>1</td>\n",
       "      <td>...</td>\n",
       "      <td>False</td>\n",
       "      <td>False</td>\n",
       "      <td>False</td>\n",
       "      <td>False</td>\n",
       "      <td>False</td>\n",
       "      <td>2</td>\n",
       "      <td>0</td>\n",
       "      <td>1</td>\n",
       "      <td>0</td>\n",
       "      <td>5.0</td>\n",
       "    </tr>\n",
       "    <tr>\n",
       "      <th>2</th>\n",
       "      <td>0</td>\n",
       "      <td>3</td>\n",
       "      <td>2</td>\n",
       "      <td>3</td>\n",
       "      <td>5</td>\n",
       "      <td>1</td>\n",
       "      <td>0</td>\n",
       "      <td>2</td>\n",
       "      <td>3</td>\n",
       "      <td>1</td>\n",
       "      <td>...</td>\n",
       "      <td>False</td>\n",
       "      <td>False</td>\n",
       "      <td>False</td>\n",
       "      <td>False</td>\n",
       "      <td>False</td>\n",
       "      <td>1</td>\n",
       "      <td>0</td>\n",
       "      <td>1</td>\n",
       "      <td>0</td>\n",
       "      <td>2.0</td>\n",
       "    </tr>\n",
       "    <tr>\n",
       "      <th>3</th>\n",
       "      <td>0</td>\n",
       "      <td>33</td>\n",
       "      <td>32</td>\n",
       "      <td>2</td>\n",
       "      <td>1</td>\n",
       "      <td>7</td>\n",
       "      <td>1</td>\n",
       "      <td>1</td>\n",
       "      <td>6</td>\n",
       "      <td>1</td>\n",
       "      <td>...</td>\n",
       "      <td>False</td>\n",
       "      <td>False</td>\n",
       "      <td>False</td>\n",
       "      <td>False</td>\n",
       "      <td>False</td>\n",
       "      <td>1</td>\n",
       "      <td>0</td>\n",
       "      <td>1</td>\n",
       "      <td>0</td>\n",
       "      <td>3.0</td>\n",
       "    </tr>\n",
       "    <tr>\n",
       "      <th>4</th>\n",
       "      <td>0</td>\n",
       "      <td>33</td>\n",
       "      <td>32</td>\n",
       "      <td>2</td>\n",
       "      <td>1</td>\n",
       "      <td>8</td>\n",
       "      <td>3</td>\n",
       "      <td>0</td>\n",
       "      <td>5</td>\n",
       "      <td>1</td>\n",
       "      <td>...</td>\n",
       "      <td>False</td>\n",
       "      <td>False</td>\n",
       "      <td>False</td>\n",
       "      <td>False</td>\n",
       "      <td>False</td>\n",
       "      <td>1</td>\n",
       "      <td>0</td>\n",
       "      <td>1</td>\n",
       "      <td>0</td>\n",
       "      <td>5.0</td>\n",
       "    </tr>\n",
       "  </tbody>\n",
       "</table>\n",
       "<p>5 rows × 34 columns</p>\n",
       "</div>"
      ],
      "text/plain": [
       "   X_1  X_2  X_3  X_4  X_5  X_6  X_7  X_8  X_9  X_10  ...  is_month_end  \\\n",
       "0    0   36   34    2    1    5    6    1    6     1  ...         False   \n",
       "1    1   37   37    0    0   11   17    1    6     1  ...         False   \n",
       "2    0    3    2    3    5    1    0    2    3     1  ...         False   \n",
       "3    0   33   32    2    1    7    1    1    6     1  ...         False   \n",
       "4    0   33   32    2    1    8    3    0    5     1  ...         False   \n",
       "\n",
       "   is_quarter_start  is_quarter_end  is_year_start  is_year_end  Semester  \\\n",
       "0             False           False          False        False         2   \n",
       "1             False           False          False        False         2   \n",
       "2             False           False          False        False         1   \n",
       "3             False           False          False        False         1   \n",
       "4             False           False          False        False         1   \n",
       "\n",
       "   is_weekend  is_weekday  is_X_12_missing  cnt_total_offence  \n",
       "0           1           0                0                1.0  \n",
       "1           0           1                0                5.0  \n",
       "2           0           1                0                2.0  \n",
       "3           0           1                0                3.0  \n",
       "4           0           1                0                5.0  \n",
       "\n",
       "[5 rows x 34 columns]"
      ]
     },
     "execution_count": 33,
     "metadata": {},
     "output_type": "execute_result"
    }
   ],
   "source": [
    "train1.head()"
   ]
  },
  {
   "cell_type": "code",
   "execution_count": 38,
   "metadata": {},
   "outputs": [
    {
     "data": {
      "text/plain": [
       "['is_month_start',\n",
       " 'is_month_end',\n",
       " 'is_quarter_start',\n",
       " 'is_quarter_end',\n",
       " 'is_year_start',\n",
       " 'is_year_end']"
      ]
     },
     "execution_count": 38,
     "metadata": {},
     "output_type": "execute_result"
    }
   ],
   "source": [
    "train1.select_dtypes(include=['object','bool']).columns.tolist()"
   ]
  },
  {
   "cell_type": "code",
   "execution_count": 44,
   "metadata": {},
   "outputs": [
    {
     "data": {
      "text/plain": [
       "Index(['X_1', 'X_2', 'X_3', 'X_4', 'X_5', 'X_6', 'X_7', 'X_8', 'X_9', 'X_10',\n",
       "       'X_11', 'X_12', 'X_13', 'X_14', 'X_15', 'MULTIPLE_OFFENSE', 'year',\n",
       "       'month', 'day', 'DayOfWeek', 'DayOfYear', 'week', 'Quarter',\n",
       "       'is_month_start', 'is_month_end', 'is_quarter_start', 'is_quarter_end',\n",
       "       'is_year_start', 'is_year_end', 'Semester', 'is_weekend', 'is_weekday',\n",
       "       'is_X_12_missing', 'cnt_total_offence'],\n",
       "      dtype='object')"
      ]
     },
     "execution_count": 44,
     "metadata": {},
     "output_type": "execute_result"
    }
   ],
   "source": [
    "train1.columns"
   ]
  },
  {
   "cell_type": "code",
   "execution_count": 45,
   "metadata": {},
   "outputs": [],
   "source": [
    "cols_to_ohe = train1.select_dtypes(include=['object','bool']).columns.tolist()\n",
    "cols_to_stdsclr = ['X_1', 'X_2', 'X_3', 'X_4', 'X_5', 'X_6', 'X_7', 'X_8', 'X_9', 'X_10',\n",
    "       'X_11', 'X_12', 'X_13', 'X_14', 'X_15','Semester', 'cnt_total_offence']"
   ]
  },
  {
   "cell_type": "code",
   "execution_count": 46,
   "metadata": {},
   "outputs": [],
   "source": [
    "from sklearn.preprocessing import OneHotEncoder\n",
    "from sklearn.preprocessing import StandardScaler\n",
    "from sklearn.preprocessing import LabelEncoder\n",
    "ohe = OneHotEncoder()\n",
    "st = StandardScaler()\n",
    "le = LabelEncoder()"
   ]
  },
  {
   "cell_type": "code",
   "execution_count": 47,
   "metadata": {},
   "outputs": [],
   "source": [
    "X = train1.drop('MULTIPLE_OFFENSE', axis=1)\n",
    "y = train1['MULTIPLE_OFFENSE']\n",
    "X_test = test1.copy()"
   ]
  },
  {
   "cell_type": "code",
   "execution_count": 54,
   "metadata": {},
   "outputs": [
    {
     "data": {
      "text/plain": [
       "['is_month_start',\n",
       " 'is_month_end',\n",
       " 'is_quarter_start',\n",
       " 'is_quarter_end',\n",
       " 'is_year_start',\n",
       " 'is_year_end']"
      ]
     },
     "execution_count": 54,
     "metadata": {},
     "output_type": "execute_result"
    }
   ],
   "source": [
    "cols_to_ohe"
   ]
  },
  {
   "cell_type": "code",
   "execution_count": 53,
   "metadata": {},
   "outputs": [
    {
     "data": {
      "text/plain": [
       "array([[False],\n",
       "       [False],\n",
       "       [False],\n",
       "       ...,\n",
       "       [False],\n",
       "       [False],\n",
       "       [False]])"
      ]
     },
     "execution_count": 53,
     "metadata": {},
     "output_type": "execute_result"
    }
   ],
   "source": [
    "X[cols_to_ohe].values.reshape(-1,1)"
   ]
  },
  {
   "cell_type": "code",
   "execution_count": 56,
   "metadata": {},
   "outputs": [],
   "source": [
    "## standard scaler\n",
    "for col in cols_to_stdsclr:\n",
    "    X[col] = st.fit_transform(X[col].values.reshape(-1,1))\n",
    "    X_test[col]=st.transform(X_test[col].values.reshape(-1,1))"
   ]
  },
  {
   "cell_type": "code",
   "execution_count": 59,
   "metadata": {},
   "outputs": [],
   "source": [
    "## one hot encode\n",
    "ohe_vars = pd.DataFrame(ohe.fit_transform(X[cols_to_ohe]).toarray())\n",
    "ohe_vars1 = pd.DataFrame(ohe.transform(X_test[cols_to_ohe]).toarray())"
   ]
  },
  {
   "cell_type": "code",
   "execution_count": 49,
   "metadata": {},
   "outputs": [],
   "source": [
    "y = le.fit_transform(y)"
   ]
  },
  {
   "cell_type": "code",
   "execution_count": 61,
   "metadata": {},
   "outputs": [
    {
     "name": "stdout",
     "output_type": "stream",
     "text": [
      "(23856, 33)\n",
      "(15903, 33)\n",
      "(23856, 45)\n",
      "(15903, 45)\n"
     ]
    }
   ],
   "source": [
    "## merge the variable created wih ohe\n",
    "print(X.shape)\n",
    "print(X_test.shape)\n",
    "X = pd.concat([X,ohe_vars], axis=1)\n",
    "X_test = pd.concat([X_test,ohe_vars1], axis=1)\n",
    "print(X.shape)\n",
    "print(X_test.shape)"
   ]
  },
  {
   "cell_type": "code",
   "execution_count": 62,
   "metadata": {},
   "outputs": [
    {
     "name": "stdout",
     "output_type": "stream",
     "text": [
      "(15903, 12)\n",
      "(23856, 12)\n"
     ]
    }
   ],
   "source": [
    "print(ohe_vars1.shape)\n",
    "print(ohe_vars.shape)"
   ]
  },
  {
   "cell_type": "code",
   "execution_count": 66,
   "metadata": {},
   "outputs": [
    {
     "name": "stdout",
     "output_type": "stream",
     "text": [
      "(23856, 39)\n",
      "(15903, 39)\n"
     ]
    }
   ],
   "source": [
    "## drop ohe vars\n",
    "X.drop(cols_to_ohe, axis=1, inplace=True)\n",
    "X_test.drop(cols_to_ohe, axis=1, inplace=True)\n",
    "print(X.shape)\n",
    "print(X_test.shape)"
   ]
  },
  {
   "cell_type": "code",
   "execution_count": 72,
   "metadata": {},
   "outputs": [],
   "source": [
    "# Load libraries\n",
    "import xgboost\n",
    "from xgboost import XGBClassifier\n",
    "from sklearn.model_selection import train_test_split # Import train_test_split function\n",
    "from sklearn import metrics #Import scikit-learn metrics module for accuracy calculation\n",
    "from sklearn.model_selection import GridSearchCV #for GridSearch"
   ]
  },
  {
   "cell_type": "code",
   "execution_count": 77,
   "metadata": {},
   "outputs": [],
   "source": [
    "# # Create the parameter grid based on the results of random search \n",
    "# param_grid = {\n",
    "#     'n_estimators': [100,300,500,600,1000],\n",
    "#     'max_depth': [4,5,6,7,8],\n",
    "#     'gamma': [0,0.01,0.1,1,10,20],\n",
    "#     'colsample_bytree': [0.7,0.8,0.9,1],\n",
    "#     'colsample_bylevel': [0.7,0.8,0.9,1],\n",
    "# }\n",
    "# # Create a based model\n",
    "# xgb = XGBClassifier()\n",
    "# # Instantiate the grid search model\n",
    "# grid_search = GridSearchCV(estimator = xgb, param_grid = param_grid, \n",
    "#                           cv = 5, n_jobs = -1, verbose = 2)"
   ]
  },
  {
   "cell_type": "code",
   "execution_count": 79,
   "metadata": {},
   "outputs": [],
   "source": [
    "# # Fit the grid search to the data\n",
    "# grid_search.fit(X, y)\n",
    "# grid_search.best_params_"
   ]
  },
  {
   "cell_type": "code",
   "execution_count": 95,
   "metadata": {},
   "outputs": [],
   "source": [
    "xgb1 = XGBClassifier()"
   ]
  },
  {
   "cell_type": "code",
   "execution_count": 96,
   "metadata": {},
   "outputs": [],
   "source": [
    "xgb1.fit(X,y)\n",
    "pred = xgb1.predict(X_test)"
   ]
  },
  {
   "cell_type": "code",
   "execution_count": 97,
   "metadata": {},
   "outputs": [],
   "source": [
    "sub4 = pd.DataFrame()\n",
    "sub4['INCIDENT_ID'] = test.INCIDENT_ID\n",
    "sub4['MULTIPLE_OFFENSE'] = pred\n",
    "sub4.to_csv(path + 'xgb1_with_target_encoded_variable.csv', index=False)"
   ]
  },
  {
   "cell_type": "code",
   "execution_count": null,
   "metadata": {},
   "outputs": [],
   "source": []
  },
  {
   "cell_type": "code",
   "execution_count": null,
   "metadata": {},
   "outputs": [],
   "source": []
  },
  {
   "cell_type": "code",
   "execution_count": null,
   "metadata": {},
   "outputs": [],
   "source": []
  },
  {
   "cell_type": "code",
   "execution_count": null,
   "metadata": {},
   "outputs": [],
   "source": []
  },
  {
   "cell_type": "code",
   "execution_count": null,
   "metadata": {},
   "outputs": [],
   "source": []
  },
  {
   "cell_type": "code",
   "execution_count": null,
   "metadata": {},
   "outputs": [],
   "source": []
  },
  {
   "cell_type": "code",
   "execution_count": null,
   "metadata": {},
   "outputs": [],
   "source": []
  },
  {
   "cell_type": "code",
   "execution_count": null,
   "metadata": {},
   "outputs": [],
   "source": []
  },
  {
   "cell_type": "code",
   "execution_count": null,
   "metadata": {},
   "outputs": [],
   "source": []
  },
  {
   "cell_type": "code",
   "execution_count": null,
   "metadata": {},
   "outputs": [],
   "source": []
  },
  {
   "cell_type": "code",
   "execution_count": null,
   "metadata": {},
   "outputs": [],
   "source": []
  },
  {
   "cell_type": "code",
   "execution_count": null,
   "metadata": {},
   "outputs": [],
   "source": []
  },
  {
   "cell_type": "code",
   "execution_count": null,
   "metadata": {},
   "outputs": [],
   "source": []
  },
  {
   "cell_type": "code",
   "execution_count": null,
   "metadata": {},
   "outputs": [],
   "source": []
  }
 ],
 "metadata": {
  "kernelspec": {
   "display_name": "Python 3",
   "language": "python",
   "name": "python3"
  }
 },
 "nbformat": 4,
 "nbformat_minor": 2
}
